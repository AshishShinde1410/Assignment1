{
 "cells": [
  {
   "cell_type": "markdown",
   "id": "526179a2",
   "metadata": {},
   "source": [
    "# Data types\n",
    " *  Numbers\n",
    " *  Strings\n",
    " *  Printing\n",
    " *  Lists\n",
    " *  Dictionaries\n",
    " *  Booleans\n",
    " *  Tuples\n",
    " *  Sets\n",
    "* Comparison Operators\n",
    "* if, elif, else Statements\n",
    "* for Loops\n",
    "* while Loops\n",
    "* range()\n",
    "* list comprehension\n",
    "* functions\n",
    "* lambda expressions\n",
    "* map and filter\n",
    "* methods\n"
   ]
  },
  {
   "cell_type": "code",
   "execution_count": 1,
   "id": "e087dd3d",
   "metadata": {},
   "outputs": [
    {
     "data": {
      "text/plain": [
       "24"
      ]
     },
     "execution_count": 1,
     "metadata": {},
     "output_type": "execute_result"
    }
   ],
   "source": [
    "12+12"
   ]
  },
  {
   "cell_type": "code",
   "execution_count": 2,
   "id": "d7926b2b",
   "metadata": {},
   "outputs": [],
   "source": [
    "a=12"
   ]
  },
  {
   "cell_type": "code",
   "execution_count": 4,
   "id": "2afb64bd",
   "metadata": {},
   "outputs": [
    {
     "data": {
      "text/plain": [
       "int"
      ]
     },
     "execution_count": 4,
     "metadata": {},
     "output_type": "execute_result"
    }
   ],
   "source": [
    "type(a)"
   ]
  },
  {
   "cell_type": "code",
   "execution_count": 5,
   "id": "63f81090",
   "metadata": {},
   "outputs": [
    {
     "data": {
      "text/plain": [
       "64"
      ]
     },
     "execution_count": 5,
     "metadata": {},
     "output_type": "execute_result"
    }
   ],
   "source": [
    "12+52  #addition "
   ]
  },
  {
   "cell_type": "code",
   "execution_count": 6,
   "id": "f8c343e4",
   "metadata": {},
   "outputs": [
    {
     "data": {
      "text/plain": [
       "1"
      ]
     },
     "execution_count": 6,
     "metadata": {},
     "output_type": "execute_result"
    }
   ],
   "source": [
    "3-2 #substration"
   ]
  },
  {
   "cell_type": "code",
   "execution_count": 7,
   "id": "ad2a5514",
   "metadata": {},
   "outputs": [
    {
     "data": {
      "text/plain": [
       "46"
      ]
     },
     "execution_count": 7,
     "metadata": {},
     "output_type": "execute_result"
    }
   ],
   "source": [
    "23*2      #multiplication"
   ]
  },
  {
   "cell_type": "code",
   "execution_count": 9,
   "id": "4991b5cb",
   "metadata": {},
   "outputs": [
    {
     "data": {
      "text/plain": [
       "12.5"
      ]
     },
     "execution_count": 9,
     "metadata": {},
     "output_type": "execute_result"
    }
   ],
   "source": [
    "50/4    # division"
   ]
  },
  {
   "cell_type": "code",
   "execution_count": 10,
   "id": "864e6b7c",
   "metadata": {},
   "outputs": [
    {
     "data": {
      "text/plain": [
       "12"
      ]
     },
     "execution_count": 10,
     "metadata": {},
     "output_type": "execute_result"
    }
   ],
   "source": [
    "50//4   #floor division"
   ]
  },
  {
   "cell_type": "code",
   "execution_count": 11,
   "id": "3dc14741",
   "metadata": {},
   "outputs": [
    {
     "data": {
      "text/plain": [
       "2"
      ]
     },
     "execution_count": 11,
     "metadata": {},
     "output_type": "execute_result"
    }
   ],
   "source": [
    "50%4    #mould it gives reminder"
   ]
  },
  {
   "cell_type": "code",
   "execution_count": 12,
   "id": "075ad6b3",
   "metadata": {},
   "outputs": [
    {
     "data": {
      "text/plain": [
       "8"
      ]
     },
     "execution_count": 12,
     "metadata": {},
     "output_type": "execute_result"
    }
   ],
   "source": [
    "2**3    #**means rase to 3"
   ]
  },
  {
   "cell_type": "code",
   "execution_count": 13,
   "id": "11091a9f",
   "metadata": {},
   "outputs": [],
   "source": [
    "#pythons to basic two types integer and float"
   ]
  },
  {
   "cell_type": "code",
   "execution_count": 14,
   "id": "d470983c",
   "metadata": {},
   "outputs": [
    {
     "data": {
      "text/plain": [
       "55"
      ]
     },
     "execution_count": 14,
     "metadata": {},
     "output_type": "execute_result"
    }
   ],
   "source": [
    "55"
   ]
  },
  {
   "cell_type": "code",
   "execution_count": 15,
   "id": "b476ef24",
   "metadata": {},
   "outputs": [
    {
     "data": {
      "text/plain": [
       "int"
      ]
     },
     "execution_count": 15,
     "metadata": {},
     "output_type": "execute_result"
    }
   ],
   "source": [
    "type(55)"
   ]
  },
  {
   "cell_type": "code",
   "execution_count": 16,
   "id": "3cae0b20",
   "metadata": {},
   "outputs": [
    {
     "data": {
      "text/plain": [
       "55.5"
      ]
     },
     "execution_count": 16,
     "metadata": {},
     "output_type": "execute_result"
    }
   ],
   "source": [
    "55.5"
   ]
  },
  {
   "cell_type": "code",
   "execution_count": 17,
   "id": "6e1bffa1",
   "metadata": {},
   "outputs": [
    {
     "data": {
      "text/plain": [
       "float"
      ]
     },
     "execution_count": 17,
     "metadata": {},
     "output_type": "execute_result"
    }
   ],
   "source": [
    "type(55.5)"
   ]
  },
  {
   "cell_type": "code",
   "execution_count": 18,
   "id": "31d6a04f",
   "metadata": {},
   "outputs": [
    {
     "data": {
      "text/plain": [
       "55"
      ]
     },
     "execution_count": 18,
     "metadata": {},
     "output_type": "execute_result"
    }
   ],
   "source": [
    "int(55.5)  #convert to intiger "
   ]
  },
  {
   "cell_type": "code",
   "execution_count": 20,
   "id": "04234dfc",
   "metadata": {},
   "outputs": [
    {
     "data": {
      "text/plain": [
       "50.0"
      ]
     },
     "execution_count": 20,
     "metadata": {},
     "output_type": "execute_result"
    }
   ],
   "source": [
    "float(50)    #convert to float"
   ]
  },
  {
   "cell_type": "code",
   "execution_count": 21,
   "id": "5ca5d79f",
   "metadata": {},
   "outputs": [
    {
     "data": {
      "text/plain": [
       "22"
      ]
     },
     "execution_count": 21,
     "metadata": {},
     "output_type": "execute_result"
    }
   ],
   "source": [
    "2+3*6+2"
   ]
  },
  {
   "cell_type": "code",
   "execution_count": 22,
   "id": "851fcd07",
   "metadata": {},
   "outputs": [
    {
     "data": {
      "text/plain": [
       "40"
      ]
     },
     "execution_count": 22,
     "metadata": {},
     "output_type": "execute_result"
    }
   ],
   "source": [
    "(2+3)*(6+2)"
   ]
  },
  {
   "cell_type": "markdown",
   "id": "ff6da12f",
   "metadata": {},
   "source": [
    "# Variable Assignment"
   ]
  },
  {
   "cell_type": "code",
   "execution_count": 41,
   "id": "134384c5",
   "metadata": {},
   "outputs": [],
   "source": [
    "x=2\n"
   ]
  },
  {
   "cell_type": "code",
   "execution_count": 42,
   "id": "6be04c4e",
   "metadata": {},
   "outputs": [],
   "source": [
    "y=5"
   ]
  },
  {
   "cell_type": "code",
   "execution_count": 43,
   "id": "68260f22",
   "metadata": {},
   "outputs": [
    {
     "data": {
      "text/plain": [
       "7"
      ]
     },
     "execution_count": 43,
     "metadata": {},
     "output_type": "execute_result"
    }
   ],
   "source": [
    "x+y"
   ]
  },
  {
   "cell_type": "code",
   "execution_count": 44,
   "id": "a0a6b2b6",
   "metadata": {},
   "outputs": [
    {
     "data": {
      "text/plain": [
       "10"
      ]
     },
     "execution_count": 44,
     "metadata": {},
     "output_type": "execute_result"
    }
   ],
   "source": [
    "x*y"
   ]
  },
  {
   "cell_type": "code",
   "execution_count": 45,
   "id": "c28219fb",
   "metadata": {},
   "outputs": [
    {
     "data": {
      "text/plain": [
       "0.4"
      ]
     },
     "execution_count": 45,
     "metadata": {},
     "output_type": "execute_result"
    }
   ],
   "source": [
    "x/y"
   ]
  },
  {
   "cell_type": "code",
   "execution_count": 46,
   "id": "7e4a3d04",
   "metadata": {},
   "outputs": [],
   "source": [
    "x=x+x"
   ]
  },
  {
   "cell_type": "code",
   "execution_count": 47,
   "id": "4566403a",
   "metadata": {},
   "outputs": [
    {
     "data": {
      "text/plain": [
       "4"
      ]
     },
     "execution_count": 47,
     "metadata": {},
     "output_type": "execute_result"
    }
   ],
   "source": [
    "x"
   ]
  },
  {
   "cell_type": "code",
   "execution_count": 48,
   "id": "1354ec81",
   "metadata": {},
   "outputs": [],
   "source": [
    "x=x+x   #in this case x value is 4"
   ]
  },
  {
   "cell_type": "code",
   "execution_count": 49,
   "id": "3d4764a5",
   "metadata": {},
   "outputs": [
    {
     "data": {
      "text/plain": [
       "8"
      ]
     },
     "execution_count": 49,
     "metadata": {},
     "output_type": "execute_result"
    }
   ],
   "source": [
    "x"
   ]
  },
  {
   "cell_type": "code",
   "execution_count": 50,
   "id": "9d688d03",
   "metadata": {},
   "outputs": [],
   "source": [
    "#variable number can not be starts with number"
   ]
  },
  {
   "cell_type": "markdown",
   "id": "c6c967ee",
   "metadata": {},
   "source": [
    "# Strings:it is a sequence of characters enclosed in single qoute or double qoute"
   ]
  },
  {
   "cell_type": "code",
   "execution_count": 51,
   "id": "730f573c",
   "metadata": {},
   "outputs": [
    {
     "data": {
      "text/plain": [
       "'hello'"
      ]
     },
     "execution_count": 51,
     "metadata": {},
     "output_type": "execute_result"
    }
   ],
   "source": [
    "'hello'"
   ]
  },
  {
   "cell_type": "code",
   "execution_count": 52,
   "id": "8d54750b",
   "metadata": {},
   "outputs": [
    {
     "data": {
      "text/plain": [
       "str"
      ]
     },
     "execution_count": 52,
     "metadata": {},
     "output_type": "execute_result"
    }
   ],
   "source": [
    "type('hello')"
   ]
  },
  {
   "cell_type": "code",
   "execution_count": 53,
   "id": "4beb69d2",
   "metadata": {},
   "outputs": [],
   "source": [
    "a=\"welcome to our home\""
   ]
  },
  {
   "cell_type": "code",
   "execution_count": 54,
   "id": "506df043",
   "metadata": {},
   "outputs": [
    {
     "data": {
      "text/plain": [
       "str"
      ]
     },
     "execution_count": 54,
     "metadata": {},
     "output_type": "execute_result"
    }
   ],
   "source": [
    "type(a)"
   ]
  },
  {
   "cell_type": "code",
   "execution_count": 55,
   "id": "a4f090b1",
   "metadata": {},
   "outputs": [
    {
     "data": {
      "text/plain": [
       "'Single Quates'"
      ]
     },
     "execution_count": 55,
     "metadata": {},
     "output_type": "execute_result"
    }
   ],
   "source": [
    "'Single Quates'"
   ]
  },
  {
   "cell_type": "code",
   "execution_count": 56,
   "id": "2d93da0b",
   "metadata": {},
   "outputs": [
    {
     "data": {
      "text/plain": [
       "'Double Quates'"
      ]
     },
     "execution_count": 56,
     "metadata": {},
     "output_type": "execute_result"
    }
   ],
   "source": [
    "\"Double Quates\""
   ]
  },
  {
   "cell_type": "code",
   "execution_count": 57,
   "id": "e798964f",
   "metadata": {},
   "outputs": [
    {
     "name": "stdout",
     "output_type": "stream",
     "text": [
      "welcome\n"
     ]
    }
   ],
   "source": [
    "print(\"welcome\")"
   ]
  },
  {
   "cell_type": "code",
   "execution_count": 59,
   "id": "f0d64f00",
   "metadata": {},
   "outputs": [
    {
     "name": "stdout",
     "output_type": "stream",
     "text": [
      "welcome\n"
     ]
    },
    {
     "data": {
      "text/plain": [
       "NoneType"
      ]
     },
     "execution_count": 59,
     "metadata": {},
     "output_type": "execute_result"
    }
   ],
   "source": [
    "type(print(\"welcome\"))    #once you can print something then this string can type none"
   ]
  },
  {
   "cell_type": "code",
   "execution_count": 60,
   "id": "319fe263",
   "metadata": {},
   "outputs": [
    {
     "name": "stdout",
     "output_type": "stream",
     "text": [
      "Hi, My name is Ashish and My brother name is Pradip\n"
     ]
    }
   ],
   "source": [
    "a=print(\"Hi, My name is {} and My brother name is {}\".format('Ashish','Pradip'))"
   ]
  },
  {
   "cell_type": "code",
   "execution_count": 61,
   "id": "faaa4d40",
   "metadata": {},
   "outputs": [],
   "source": [
    "x='Ashish'\n",
    "y='Pradip'"
   ]
  },
  {
   "cell_type": "code",
   "execution_count": 62,
   "id": "f93b297f",
   "metadata": {},
   "outputs": [
    {
     "name": "stdout",
     "output_type": "stream",
     "text": [
      "Hi, My name is Ashish and My brother name is Pradip\n"
     ]
    }
   ],
   "source": [
    "a=print(\"Hi, My name is {} and My brother name is {}\".format(x,y))"
   ]
  },
  {
   "cell_type": "code",
   "execution_count": 68,
   "id": "5a2e810d",
   "metadata": {},
   "outputs": [
    {
     "name": "stdout",
     "output_type": "stream",
     "text": [
      "Hi, My name is Ashish and My brother name is Pradip\n"
     ]
    }
   ],
   "source": [
    "a=print(\"Hi, My name is {p} and My brother name is {q}\".format(q=y,p=x))"
   ]
  },
  {
   "cell_type": "markdown",
   "id": "5c60770c",
   "metadata": {},
   "source": [
    "# Indexing String"
   ]
  },
  {
   "cell_type": "code",
   "execution_count": 69,
   "id": "bda2fac3",
   "metadata": {},
   "outputs": [],
   "source": [
    "w=(\"Hi, My name is Ashish and My brother name is Pradip\")"
   ]
  },
  {
   "cell_type": "code",
   "execution_count": 73,
   "id": "f423c8ab",
   "metadata": {},
   "outputs": [
    {
     "data": {
      "text/plain": [
       "'H'"
      ]
     },
     "execution_count": 73,
     "metadata": {},
     "output_type": "execute_result"
    }
   ],
   "source": [
    "w[0]  #indexing always starts with zero"
   ]
  },
  {
   "cell_type": "code",
   "execution_count": 74,
   "id": "3dfac138",
   "metadata": {},
   "outputs": [
    {
     "data": {
      "text/plain": [
       "'i, My'"
      ]
     },
     "execution_count": 74,
     "metadata": {},
     "output_type": "execute_result"
    }
   ],
   "source": [
    "w[1:6]"
   ]
  },
  {
   "cell_type": "code",
   "execution_count": 77,
   "id": "5304d1d7",
   "metadata": {},
   "outputs": [
    {
     "data": {
      "text/plain": [
       "'M aei '"
      ]
     },
     "execution_count": 77,
     "metadata": {},
     "output_type": "execute_result"
    }
   ],
   "source": [
    "w[4:15:2]   # 4 is starting piont \n",
    "            # 15 is last point which is not considered\n",
    "            # 2 is steps means difference"
   ]
  },
  {
   "cell_type": "code",
   "execution_count": 79,
   "id": "ccc86060",
   "metadata": {},
   "outputs": [
    {
     "data": {
      "text/plain": [
       "'Hi, My name is Ashish and My brother name is Pradip'"
      ]
     },
     "execution_count": 79,
     "metadata": {},
     "output_type": "execute_result"
    }
   ],
   "source": [
    "w[0:]   #slice notation"
   ]
  },
  {
   "cell_type": "code",
   "execution_count": 81,
   "id": "a594a3ed",
   "metadata": {},
   "outputs": [
    {
     "data": {
      "text/plain": [
       "'Hi, My name is Ashish and My brother name is Pradip'"
      ]
     },
     "execution_count": 81,
     "metadata": {},
     "output_type": "execute_result"
    }
   ],
   "source": [
    "w[:]   #in that case consider start to end all"
   ]
  },
  {
   "cell_type": "code",
   "execution_count": 84,
   "id": "12c4e3ac",
   "metadata": {},
   "outputs": [
    {
     "data": {
      "text/plain": [
       "'Ashish and My brother name is Pradip'"
      ]
     },
     "execution_count": 84,
     "metadata": {},
     "output_type": "execute_result"
    }
   ],
   "source": [
    "w[15:] #in this condition start 15 to end all points"
   ]
  },
  {
   "cell_type": "code",
   "execution_count": 86,
   "id": "53835846",
   "metadata": {},
   "outputs": [
    {
     "data": {
      "text/plain": [
       "'pidarP si eman rehtorb yM dna hsihsA si eman yM ,iH'"
      ]
     },
     "execution_count": 86,
     "metadata": {},
     "output_type": "execute_result"
    }
   ],
   "source": [
    "w[::-1] #In this condition all characters can be cosider and to reverse it"
   ]
  },
  {
   "cell_type": "code",
   "execution_count": 88,
   "id": "8eabcb9f",
   "metadata": {},
   "outputs": [
    {
     "data": {
      "text/plain": [
       "'Hi, My name is '"
      ]
     },
     "execution_count": 88,
     "metadata": {},
     "output_type": "execute_result"
    }
   ],
   "source": [
    "w[:15:] #In this condition starts from starting and kast to 14 character and diifference is 1"
   ]
  },
  {
   "cell_type": "code",
   "execution_count": 89,
   "id": "323ace1e",
   "metadata": {},
   "outputs": [
    {
     "data": {
      "text/plain": [
       "'Hi, My name is Ashish and My brother name is Pradip'"
      ]
     },
     "execution_count": 89,
     "metadata": {},
     "output_type": "execute_result"
    }
   ],
   "source": [
    "w"
   ]
  },
  {
   "cell_type": "code",
   "execution_count": 90,
   "id": "afc547f6",
   "metadata": {},
   "outputs": [
    {
     "data": {
      "text/plain": [
       "' mnrh'"
      ]
     },
     "execution_count": 90,
     "metadata": {},
     "output_type": "execute_result"
    }
   ],
   "source": [
    "w[-10:-20:-2]  "
   ]
  },
  {
   "cell_type": "code",
   "execution_count": 91,
   "id": "e3b280a0",
   "metadata": {},
   "outputs": [
    {
     "data": {
      "text/plain": [
       "51"
      ]
     },
     "execution_count": 91,
     "metadata": {},
     "output_type": "execute_result"
    }
   ],
   "source": [
    "len(w)"
   ]
  },
  {
   "cell_type": "code",
   "execution_count": 92,
   "id": "7fa7fbb4",
   "metadata": {},
   "outputs": [
    {
     "data": {
      "text/plain": [
       "'eneo  a'"
      ]
     },
     "execution_count": 92,
     "metadata": {},
     "output_type": "execute_result"
    }
   ],
   "source": [
    "w[40:20:-3]"
   ]
  },
  {
   "cell_type": "markdown",
   "id": "8607fab6",
   "metadata": {},
   "source": [
    "# List - Are sequence of elements in a set of square bracket "
   ]
  },
  {
   "cell_type": "code",
   "execution_count": 93,
   "id": "039b3787",
   "metadata": {},
   "outputs": [],
   "source": [
    "# List can take any data type \n",
    "# List is also a sequence just like string is"
   ]
  },
  {
   "cell_type": "code",
   "execution_count": 94,
   "id": "5a494c6c",
   "metadata": {},
   "outputs": [
    {
     "data": {
      "text/plain": [
       "[1, 2, 3]"
      ]
     },
     "execution_count": 94,
     "metadata": {},
     "output_type": "execute_result"
    }
   ],
   "source": [
    "[1,2,3]"
   ]
  },
  {
   "cell_type": "code",
   "execution_count": 95,
   "id": "4bcb1eca",
   "metadata": {},
   "outputs": [
    {
     "data": {
      "text/plain": [
       "list"
      ]
     },
     "execution_count": 95,
     "metadata": {},
     "output_type": "execute_result"
    }
   ],
   "source": [
    "type([1,2,3])"
   ]
  },
  {
   "cell_type": "code",
   "execution_count": 98,
   "id": "ab615169",
   "metadata": {},
   "outputs": [
    {
     "data": {
      "text/plain": [
       "['hii', 1.32, [1, 2, 3]]"
      ]
     },
     "execution_count": 98,
     "metadata": {},
     "output_type": "execute_result"
    }
   ],
   "source": [
    "['hii',1.32,[1,2,3]]   # list in list it  can be possible"
   ]
  },
  {
   "cell_type": "code",
   "execution_count": 107,
   "id": "8b8ac72b",
   "metadata": {},
   "outputs": [],
   "source": [
    "my_list=['a','b','c']"
   ]
  },
  {
   "cell_type": "code",
   "execution_count": 108,
   "id": "71c163f1",
   "metadata": {},
   "outputs": [],
   "source": [
    "my_list.append(5)"
   ]
  },
  {
   "cell_type": "code",
   "execution_count": 109,
   "id": "d39ef5c4",
   "metadata": {},
   "outputs": [
    {
     "data": {
      "text/plain": [
       "['a', 'b', 'c', 5]"
      ]
     },
     "execution_count": 109,
     "metadata": {},
     "output_type": "execute_result"
    }
   ],
   "source": [
    "my_list"
   ]
  },
  {
   "cell_type": "code",
   "execution_count": 110,
   "id": "954443f8",
   "metadata": {},
   "outputs": [
    {
     "data": {
      "text/plain": [
       "5"
      ]
     },
     "execution_count": 110,
     "metadata": {},
     "output_type": "execute_result"
    }
   ],
   "source": [
    "my_list.pop()   # pop can delete the last element"
   ]
  },
  {
   "cell_type": "code",
   "execution_count": 111,
   "id": "1f21f2c3",
   "metadata": {},
   "outputs": [
    {
     "data": {
      "text/plain": [
       "['a', 'b', 'c']"
      ]
     },
     "execution_count": 111,
     "metadata": {},
     "output_type": "execute_result"
    }
   ],
   "source": [
    "my_list"
   ]
  },
  {
   "cell_type": "code",
   "execution_count": 112,
   "id": "cd4cf024",
   "metadata": {},
   "outputs": [
    {
     "data": {
      "text/plain": [
       "'b'"
      ]
     },
     "execution_count": 112,
     "metadata": {},
     "output_type": "execute_result"
    }
   ],
   "source": [
    "my_list[1]"
   ]
  },
  {
   "cell_type": "code",
   "execution_count": 113,
   "id": "93e0211a",
   "metadata": {},
   "outputs": [
    {
     "data": {
      "text/plain": [
       "['a', 'b']"
      ]
     },
     "execution_count": 113,
     "metadata": {},
     "output_type": "execute_result"
    }
   ],
   "source": [
    "my_list[:2]"
   ]
  },
  {
   "cell_type": "code",
   "execution_count": 114,
   "id": "6b6cbce4",
   "metadata": {},
   "outputs": [],
   "source": [
    "my_list[1]=\"new\"  # list can be muteble"
   ]
  },
  {
   "cell_type": "code",
   "execution_count": 115,
   "id": "657ccc73",
   "metadata": {},
   "outputs": [
    {
     "data": {
      "text/plain": [
       "['a', 'new', 'c']"
      ]
     },
     "execution_count": 115,
     "metadata": {},
     "output_type": "execute_result"
    }
   ],
   "source": [
    "my_list"
   ]
  },
  {
   "cell_type": "code",
   "execution_count": 116,
   "id": "0765df46",
   "metadata": {},
   "outputs": [],
   "source": [
    "b=['hii',1.32,[1,2,3]]"
   ]
  },
  {
   "cell_type": "code",
   "execution_count": 117,
   "id": "d2360ca4",
   "metadata": {},
   "outputs": [
    {
     "data": {
      "text/plain": [
       "[1, 2, 3]"
      ]
     },
     "execution_count": 117,
     "metadata": {},
     "output_type": "execute_result"
    }
   ],
   "source": [
    "b[2]"
   ]
  },
  {
   "cell_type": "code",
   "execution_count": 118,
   "id": "e22147c2",
   "metadata": {},
   "outputs": [
    {
     "data": {
      "text/plain": [
       "2"
      ]
     },
     "execution_count": 118,
     "metadata": {},
     "output_type": "execute_result"
    }
   ],
   "source": [
    "b[2][1]"
   ]
  },
  {
   "cell_type": "code",
   "execution_count": 120,
   "id": "70c3f877",
   "metadata": {},
   "outputs": [
    {
     "data": {
      "text/plain": [
       "[2, 3]"
      ]
     },
     "execution_count": 120,
     "metadata": {},
     "output_type": "execute_result"
    }
   ],
   "source": [
    "b[2][1:]   #if we can provide slice notation then we get output in list format"
   ]
  },
  {
   "cell_type": "code",
   "execution_count": 121,
   "id": "ce771486",
   "metadata": {},
   "outputs": [],
   "source": [
    "b[2][1]='my new game'"
   ]
  },
  {
   "cell_type": "code",
   "execution_count": 122,
   "id": "be5ea80f",
   "metadata": {},
   "outputs": [
    {
     "data": {
      "text/plain": [
       "['hii', 1.32, [1, 'my new game', 3]]"
      ]
     },
     "execution_count": 122,
     "metadata": {},
     "output_type": "execute_result"
    }
   ],
   "source": [
    "b"
   ]
  },
  {
   "cell_type": "code",
   "execution_count": 123,
   "id": "b1c0e0db",
   "metadata": {},
   "outputs": [
    {
     "data": {
      "text/plain": [
       "'new'"
      ]
     },
     "execution_count": 123,
     "metadata": {},
     "output_type": "execute_result"
    }
   ],
   "source": [
    "b[2][1][3:6]"
   ]
  },
  {
   "cell_type": "code",
   "execution_count": 124,
   "id": "4e7937bc",
   "metadata": {},
   "outputs": [
    {
     "name": "stdout",
     "output_type": "stream",
     "text": [
      "my new game\n"
     ]
    }
   ],
   "source": [
    "print(b[2][1])"
   ]
  },
  {
   "cell_type": "code",
   "execution_count": 126,
   "id": "333fe074",
   "metadata": {},
   "outputs": [],
   "source": [
    "h=['hii', 1.32, [1, 'my new game', 3,[12,33,34,4,54,\"we are getting late\"]]]"
   ]
  },
  {
   "cell_type": "code",
   "execution_count": 127,
   "id": "2a31eb1e",
   "metadata": {},
   "outputs": [
    {
     "data": {
      "text/plain": [
       "' getting'"
      ]
     },
     "execution_count": 127,
     "metadata": {},
     "output_type": "execute_result"
    }
   ],
   "source": [
    "h[2][3][5][6:-5]"
   ]
  },
  {
   "cell_type": "code",
   "execution_count": 129,
   "id": "6c6fa873",
   "metadata": {},
   "outputs": [],
   "source": [
    "h[2][3][3]='good night'"
   ]
  },
  {
   "cell_type": "code",
   "execution_count": 130,
   "id": "aee23946",
   "metadata": {},
   "outputs": [
    {
     "data": {
      "text/plain": [
       "['hii',\n",
       " 1.32,\n",
       " [1, 'my new game', 3, [12, 33, 34, 'good night', 54, 'we are getting late']]]"
      ]
     },
     "execution_count": 130,
     "metadata": {},
     "output_type": "execute_result"
    }
   ],
   "source": [
    "h"
   ]
  },
  {
   "cell_type": "markdown",
   "id": "90696b51",
   "metadata": {},
   "source": [
    "# Dictionary - dictionarys behaves as key-value pair just like a hash table"
   ]
  },
  {
   "cell_type": "code",
   "execution_count": 156,
   "id": "a9415c90",
   "metadata": {},
   "outputs": [],
   "source": [
    "d={'sunday':23,'monday':'holiday',12:'new'}  # Dictionary is inclosed in curli brackets"
   ]
  },
  {
   "cell_type": "code",
   "execution_count": 157,
   "id": "59cb5f35",
   "metadata": {},
   "outputs": [
    {
     "data": {
      "text/plain": [
       "23"
      ]
     },
     "execution_count": 157,
     "metadata": {},
     "output_type": "execute_result"
    }
   ],
   "source": [
    "d['sunday']"
   ]
  },
  {
   "cell_type": "code",
   "execution_count": 159,
   "id": "2a8a2730",
   "metadata": {},
   "outputs": [
    {
     "ename": "KeyError",
     "evalue": "1",
     "output_type": "error",
     "traceback": [
      "\u001b[1;31m---------------------------------------------------------------------------\u001b[0m",
      "\u001b[1;31mKeyError\u001b[0m                                  Traceback (most recent call last)",
      "Input \u001b[1;32mIn [159]\u001b[0m, in \u001b[0;36m<cell line: 1>\u001b[1;34m()\u001b[0m\n\u001b[1;32m----> 1\u001b[0m \u001b[43md\u001b[49m\u001b[43m[\u001b[49m\u001b[38;5;241;43m1\u001b[39;49m\u001b[43m]\u001b[49m\n",
      "\u001b[1;31mKeyError\u001b[0m: 1"
     ]
    }
   ],
   "source": [
    "d[1]   # In dict this is not work"
   ]
  },
  {
   "cell_type": "code",
   "execution_count": 138,
   "id": "ad6a445b",
   "metadata": {},
   "outputs": [
    {
     "data": {
      "text/plain": [
       "dict_keys(['sunday', 'monday', 12])"
      ]
     },
     "execution_count": 138,
     "metadata": {},
     "output_type": "execute_result"
    }
   ],
   "source": [
    "d.keys()"
   ]
  },
  {
   "cell_type": "code",
   "execution_count": 139,
   "id": "77b2b0ab",
   "metadata": {},
   "outputs": [
    {
     "data": {
      "text/plain": [
       "dict_values([23, 'holiday', 'new'])"
      ]
     },
     "execution_count": 139,
     "metadata": {},
     "output_type": "execute_result"
    }
   ],
   "source": [
    "d.values()"
   ]
  },
  {
   "cell_type": "code",
   "execution_count": 140,
   "id": "52eba540",
   "metadata": {},
   "outputs": [
    {
     "data": {
      "text/plain": [
       "dict_items([('sunday', 23), ('monday', 'holiday'), (12, 'new')])"
      ]
     },
     "execution_count": 140,
     "metadata": {},
     "output_type": "execute_result"
    }
   ],
   "source": [
    "d.items()"
   ]
  },
  {
   "cell_type": "code",
   "execution_count": 141,
   "id": "108c4168",
   "metadata": {},
   "outputs": [
    {
     "data": {
      "text/plain": [
       "'new'"
      ]
     },
     "execution_count": 141,
     "metadata": {},
     "output_type": "execute_result"
    }
   ],
   "source": [
    "d[12]"
   ]
  },
  {
   "cell_type": "code",
   "execution_count": 142,
   "id": "412b5b11",
   "metadata": {},
   "outputs": [
    {
     "data": {
      "text/plain": [
       "'holiday'"
      ]
     },
     "execution_count": 142,
     "metadata": {},
     "output_type": "execute_result"
    }
   ],
   "source": [
    "d['monday']"
   ]
  },
  {
   "cell_type": "code",
   "execution_count": 152,
   "id": "0cebc319",
   "metadata": {},
   "outputs": [],
   "source": [
    "d['monday']='weekend'  # Dictionary can be muteble  \n",
    "                       # In Dictionary we can change the values "
   ]
  },
  {
   "cell_type": "code",
   "execution_count": 146,
   "id": "7d3bae87",
   "metadata": {},
   "outputs": [
    {
     "data": {
      "text/plain": [
       "{'sunday': 23, 'monday': 'weekend', 12: 'new'}"
      ]
     },
     "execution_count": 146,
     "metadata": {},
     "output_type": "execute_result"
    }
   ],
   "source": [
    "d"
   ]
  },
  {
   "cell_type": "code",
   "execution_count": 149,
   "id": "cc2b6785",
   "metadata": {},
   "outputs": [],
   "source": [
    "d1={'sunday': 23, 'monday':['weekend','holiday','working day'], 'man':{'earth':{'gravity':[1,2,3,4,5]}}}"
   ]
  },
  {
   "cell_type": "code",
   "execution_count": 160,
   "id": "247d927d",
   "metadata": {},
   "outputs": [
    {
     "data": {
      "text/plain": [
       "dict"
      ]
     },
     "execution_count": 160,
     "metadata": {},
     "output_type": "execute_result"
    }
   ],
   "source": [
    "type(d1)   # A Dict nested inside another Dict"
   ]
  },
  {
   "cell_type": "code",
   "execution_count": 151,
   "id": "2c9645c4",
   "metadata": {},
   "outputs": [
    {
     "data": {
      "text/plain": [
       "3"
      ]
     },
     "execution_count": 151,
     "metadata": {},
     "output_type": "execute_result"
    }
   ],
   "source": [
    "d1['man']['earth']['gravity'][2]"
   ]
  },
  {
   "cell_type": "code",
   "execution_count": 154,
   "id": "d461b365",
   "metadata": {},
   "outputs": [],
   "source": [
    "d1['monday'][2]='festival'"
   ]
  },
  {
   "cell_type": "code",
   "execution_count": 155,
   "id": "dd8df2f7",
   "metadata": {},
   "outputs": [
    {
     "data": {
      "text/plain": [
       "{'sunday': 23,\n",
       " 'monday': ['weekend', 'holiday', 'festival'],\n",
       " 'man': {'earth': {'gravity': [1, 2, 3, 4, 5]}}}"
      ]
     },
     "execution_count": 155,
     "metadata": {},
     "output_type": "execute_result"
    }
   ],
   "source": [
    "d1"
   ]
  },
  {
   "cell_type": "code",
   "execution_count": 161,
   "id": "04ff2b67",
   "metadata": {},
   "outputs": [],
   "source": [
    "# Dict do not retain any order, theyb are just key value pair matches"
   ]
  },
  {
   "cell_type": "markdown",
   "id": "66c46289",
   "metadata": {},
   "source": [
    "# Booleans"
   ]
  },
  {
   "cell_type": "code",
   "execution_count": 162,
   "id": "678afef3",
   "metadata": {},
   "outputs": [
    {
     "data": {
      "text/plain": [
       "True"
      ]
     },
     "execution_count": 162,
     "metadata": {},
     "output_type": "execute_result"
    }
   ],
   "source": [
    "True #capitalise T"
   ]
  },
  {
   "cell_type": "code",
   "execution_count": 163,
   "id": "95dce13a",
   "metadata": {},
   "outputs": [
    {
     "data": {
      "text/plain": [
       "False"
      ]
     },
     "execution_count": 163,
     "metadata": {},
     "output_type": "execute_result"
    }
   ],
   "source": [
    "False    #capitalise F"
   ]
  },
  {
   "cell_type": "code",
   "execution_count": 164,
   "id": "61f9670b",
   "metadata": {},
   "outputs": [
    {
     "data": {
      "text/plain": [
       "2"
      ]
     },
     "execution_count": 164,
     "metadata": {},
     "output_type": "execute_result"
    }
   ],
   "source": [
    "True+True   # True=1\n",
    "            # False=0"
   ]
  },
  {
   "cell_type": "code",
   "execution_count": 165,
   "id": "b1d5f798",
   "metadata": {},
   "outputs": [
    {
     "data": {
      "text/plain": [
       "1"
      ]
     },
     "execution_count": 165,
     "metadata": {},
     "output_type": "execute_result"
    }
   ],
   "source": [
    "True+False"
   ]
  },
  {
   "cell_type": "code",
   "execution_count": 166,
   "id": "fc90a5fe",
   "metadata": {},
   "outputs": [
    {
     "data": {
      "text/plain": [
       "0"
      ]
     },
     "execution_count": 166,
     "metadata": {},
     "output_type": "execute_result"
    }
   ],
   "source": [
    "False+False"
   ]
  },
  {
   "cell_type": "markdown",
   "id": "f08a1f03",
   "metadata": {},
   "source": [
    "# Tuples"
   ]
  },
  {
   "cell_type": "code",
   "execution_count": 167,
   "id": "1da68607",
   "metadata": {},
   "outputs": [],
   "source": [
    "t=(1,2,3,4,54,56,'new')    # tuple are immutable"
   ]
  },
  {
   "cell_type": "code",
   "execution_count": 168,
   "id": "e64872bb",
   "metadata": {},
   "outputs": [
    {
     "data": {
      "text/plain": [
       "tuple"
      ]
     },
     "execution_count": 168,
     "metadata": {},
     "output_type": "execute_result"
    }
   ],
   "source": [
    "type(t)"
   ]
  },
  {
   "cell_type": "code",
   "execution_count": 169,
   "id": "2dcc2855",
   "metadata": {},
   "outputs": [
    {
     "data": {
      "text/plain": [
       "'new'"
      ]
     },
     "execution_count": 169,
     "metadata": {},
     "output_type": "execute_result"
    }
   ],
   "source": [
    "t[-1]"
   ]
  },
  {
   "cell_type": "code",
   "execution_count": 172,
   "id": "4bf09883",
   "metadata": {},
   "outputs": [
    {
     "ename": "TypeError",
     "evalue": "'tuple' object does not support item assignment",
     "output_type": "error",
     "traceback": [
      "\u001b[1;31m---------------------------------------------------------------------------\u001b[0m",
      "\u001b[1;31mTypeError\u001b[0m                                 Traceback (most recent call last)",
      "Input \u001b[1;32mIn [172]\u001b[0m, in \u001b[0;36m<cell line: 1>\u001b[1;34m()\u001b[0m\n\u001b[1;32m----> 1\u001b[0m t[\u001b[38;5;241m3\u001b[39m]\u001b[38;5;241m=\u001b[39m\u001b[38;5;124m'\u001b[39m\u001b[38;5;124mjks\u001b[39m\u001b[38;5;124m'\u001b[39m\n",
      "\u001b[1;31mTypeError\u001b[0m: 'tuple' object does not support item assignment"
     ]
    }
   ],
   "source": [
    "t[3]='jks'   # It is not possible becouse,tuple are immutable"
   ]
  },
  {
   "cell_type": "code",
   "execution_count": 174,
   "id": "40796feb",
   "metadata": {},
   "outputs": [
    {
     "data": {
      "text/plain": [
       "(1, 2, 3, 4, 54, 56, 'new')"
      ]
     },
     "execution_count": 174,
     "metadata": {},
     "output_type": "execute_result"
    }
   ],
   "source": [
    "t  # tuple is an orderd colllection of elements enclosed in paranthesis"
   ]
  },
  {
   "cell_type": "code",
   "execution_count": 175,
   "id": "2d422fac",
   "metadata": {},
   "outputs": [
    {
     "data": {
      "text/plain": [
       "54"
      ]
     },
     "execution_count": 175,
     "metadata": {},
     "output_type": "execute_result"
    }
   ],
   "source": [
    "t[4]"
   ]
  },
  {
   "cell_type": "code",
   "execution_count": 1,
   "id": "9ed860f4",
   "metadata": {},
   "outputs": [],
   "source": [
    "# This is bcoz are immutable and they do not support items assignment and list are mutable"
   ]
  },
  {
   "cell_type": "markdown",
   "id": "ca4ac4fb",
   "metadata": {},
   "source": [
    "# Set - Set is a collection of unique elements"
   ]
  },
  {
   "cell_type": "code",
   "execution_count": 2,
   "id": "24a538ca",
   "metadata": {},
   "outputs": [
    {
     "data": {
      "text/plain": [
       "{1, 2, 3}"
      ]
     },
     "execution_count": 2,
     "metadata": {},
     "output_type": "execute_result"
    }
   ],
   "source": [
    "{1,2,3}"
   ]
  },
  {
   "cell_type": "code",
   "execution_count": 3,
   "id": "8e8fa9ad",
   "metadata": {},
   "outputs": [],
   "source": [
    "set_1={1,2,3,2,1,3,2,1,2,3,2,1,2,3,1,2,1,2}"
   ]
  },
  {
   "cell_type": "code",
   "execution_count": 5,
   "id": "729b5017",
   "metadata": {},
   "outputs": [
    {
     "data": {
      "text/plain": [
       "{1, 2, 3}"
      ]
     },
     "execution_count": 5,
     "metadata": {},
     "output_type": "execute_result"
    }
   ],
   "source": [
    "set_1     # Only unique elements can taken, Repeated elements can not be taken repeat it can be taken once time"
   ]
  },
  {
   "cell_type": "code",
   "execution_count": 8,
   "id": "15d46248",
   "metadata": {},
   "outputs": [],
   "source": [
    "set_1.add(4)  # if you want to add the items in a set"
   ]
  },
  {
   "cell_type": "code",
   "execution_count": 9,
   "id": "da703f70",
   "metadata": {},
   "outputs": [
    {
     "data": {
      "text/plain": [
       "{1, 2, 3, 4}"
      ]
     },
     "execution_count": 9,
     "metadata": {},
     "output_type": "execute_result"
    }
   ],
   "source": [
    "set_1"
   ]
  },
  {
   "cell_type": "code",
   "execution_count": 24,
   "id": "55e60216",
   "metadata": {},
   "outputs": [],
   "source": [
    "set_1.add(2)  # if you can add item can be already present in the set it gives you not error but set can take this item"
   ]
  },
  {
   "cell_type": "code",
   "execution_count": 25,
   "id": "ce26b3c0",
   "metadata": {},
   "outputs": [
    {
     "data": {
      "text/plain": [
       "{1, 2, 3, 4}"
      ]
     },
     "execution_count": 25,
     "metadata": {},
     "output_type": "execute_result"
    }
   ],
   "source": [
    "set_1"
   ]
  },
  {
   "cell_type": "code",
   "execution_count": 26,
   "id": "d98bde93",
   "metadata": {},
   "outputs": [
    {
     "ename": "TypeError",
     "evalue": "set.add() takes exactly one argument (2 given)",
     "output_type": "error",
     "traceback": [
      "\u001b[1;31m---------------------------------------------------------------------------\u001b[0m",
      "\u001b[1;31mTypeError\u001b[0m                                 Traceback (most recent call last)",
      "Input \u001b[1;32mIn [26]\u001b[0m, in \u001b[0;36m<cell line: 1>\u001b[1;34m()\u001b[0m\n\u001b[1;32m----> 1\u001b[0m \u001b[43mset_1\u001b[49m\u001b[38;5;241;43m.\u001b[39;49m\u001b[43madd\u001b[49m\u001b[43m(\u001b[49m\u001b[38;5;241;43m7\u001b[39;49m\u001b[43m,\u001b[49m\u001b[38;5;241;43m8\u001b[39;49m\u001b[43m)\u001b[49m\n",
      "\u001b[1;31mTypeError\u001b[0m: set.add() takes exactly one argument (2 given)"
     ]
    }
   ],
   "source": [
    "set_1.add(7,8)"
   ]
  },
  {
   "cell_type": "code",
   "execution_count": 18,
   "id": "97f522b6",
   "metadata": {},
   "outputs": [
    {
     "data": {
      "text/plain": [
       "{1, 2, 3, 4}"
      ]
     },
     "execution_count": 18,
     "metadata": {},
     "output_type": "execute_result"
    }
   ],
   "source": [
    "set([1,2,3,3,4,4]) # To convert the list to set"
   ]
  },
  {
   "cell_type": "code",
   "execution_count": 27,
   "id": "bb98cb60",
   "metadata": {},
   "outputs": [
    {
     "ename": "TypeError",
     "evalue": "set expected at most 1 argument, got 6",
     "output_type": "error",
     "traceback": [
      "\u001b[1;31m---------------------------------------------------------------------------\u001b[0m",
      "\u001b[1;31mTypeError\u001b[0m                                 Traceback (most recent call last)",
      "Input \u001b[1;32mIn [27]\u001b[0m, in \u001b[0;36m<cell line: 1>\u001b[1;34m()\u001b[0m\n\u001b[1;32m----> 1\u001b[0m \u001b[38;5;28;43mset\u001b[39;49m\u001b[43m(\u001b[49m\u001b[38;5;241;43m1\u001b[39;49m\u001b[43m,\u001b[49m\u001b[38;5;241;43m2\u001b[39;49m\u001b[43m,\u001b[49m\u001b[38;5;241;43m3\u001b[39;49m\u001b[43m,\u001b[49m\u001b[38;5;241;43m4\u001b[39;49m\u001b[43m,\u001b[49m\u001b[38;5;241;43m5\u001b[39;49m\u001b[43m,\u001b[49m\u001b[38;5;241;43m6\u001b[39;49m\u001b[43m)\u001b[49m\n",
      "\u001b[1;31mTypeError\u001b[0m: set expected at most 1 argument, got 6"
     ]
    }
   ],
   "source": [
    "set(1,2,3,4,5,6)   # In set it can be take only one argument more than one it can gives an error"
   ]
  },
  {
   "cell_type": "code",
   "execution_count": 23,
   "id": "fe158db4",
   "metadata": {},
   "outputs": [
    {
     "data": {
      "text/plain": [
       "{'a', 'h', 'i', 's'}"
      ]
     },
     "execution_count": 23,
     "metadata": {},
     "output_type": "execute_result"
    }
   ],
   "source": [
    "set('ashsish')  # In this method it can be extend charactors"
   ]
  },
  {
   "cell_type": "markdown",
   "id": "c7e6071c",
   "metadata": {},
   "source": [
    "# Comparison Operators"
   ]
  },
  {
   "cell_type": "code",
   "execution_count": 30,
   "id": "f4ebe744",
   "metadata": {},
   "outputs": [
    {
     "data": {
      "text/plain": [
       "True"
      ]
     },
     "execution_count": 30,
     "metadata": {},
     "output_type": "execute_result"
    }
   ],
   "source": [
    "1<2  # 1 less than 2 "
   ]
  },
  {
   "cell_type": "code",
   "execution_count": 31,
   "id": "4c626d15",
   "metadata": {},
   "outputs": [
    {
     "data": {
      "text/plain": [
       "False"
      ]
     },
     "execution_count": 31,
     "metadata": {},
     "output_type": "execute_result"
    }
   ],
   "source": [
    "1>2    # 1 is greater than 2"
   ]
  },
  {
   "cell_type": "code",
   "execution_count": 32,
   "id": "324a463e",
   "metadata": {},
   "outputs": [
    {
     "data": {
      "text/plain": [
       "False"
      ]
     },
     "execution_count": 32,
     "metadata": {},
     "output_type": "execute_result"
    }
   ],
   "source": [
    "1==2   # 1 is Equal to 2"
   ]
  },
  {
   "cell_type": "code",
   "execution_count": 33,
   "id": "5fa3ecf9",
   "metadata": {},
   "outputs": [
    {
     "data": {
      "text/plain": [
       "True"
      ]
     },
     "execution_count": 33,
     "metadata": {},
     "output_type": "execute_result"
    }
   ],
   "source": [
    "1!=2  # 1 is Not equal to 2"
   ]
  },
  {
   "cell_type": "code",
   "execution_count": 34,
   "id": "a39d1c61",
   "metadata": {},
   "outputs": [
    {
     "data": {
      "text/plain": [
       "True"
      ]
     },
     "execution_count": 34,
     "metadata": {},
     "output_type": "execute_result"
    }
   ],
   "source": [
    "2>1"
   ]
  },
  {
   "cell_type": "code",
   "execution_count": 51,
   "id": "340dd3dc",
   "metadata": {},
   "outputs": [
    {
     "data": {
      "text/plain": [
       "True"
      ]
     },
     "execution_count": 51,
     "metadata": {},
     "output_type": "execute_result"
    }
   ],
   "source": [
    "3<=5   # 3 is less than or equal to 5"
   ]
  },
  {
   "cell_type": "code",
   "execution_count": 1,
   "id": "a66ebf84",
   "metadata": {},
   "outputs": [
    {
     "data": {
      "text/plain": [
       "True"
      ]
     },
     "execution_count": 1,
     "metadata": {},
     "output_type": "execute_result"
    }
   ],
   "source": [
    "4>=3"
   ]
  },
  {
   "cell_type": "code",
   "execution_count": 2,
   "id": "f9cfa54e",
   "metadata": {},
   "outputs": [
    {
     "data": {
      "text/plain": [
       "False"
      ]
     },
     "execution_count": 2,
     "metadata": {},
     "output_type": "execute_result"
    }
   ],
   "source": [
    "2>=4"
   ]
  },
  {
   "cell_type": "code",
   "execution_count": 3,
   "id": "d97079ab",
   "metadata": {},
   "outputs": [
    {
     "data": {
      "text/plain": [
       "False"
      ]
     },
     "execution_count": 3,
     "metadata": {},
     "output_type": "execute_result"
    }
   ],
   "source": [
    "2==3"
   ]
  },
  {
   "cell_type": "code",
   "execution_count": 36,
   "id": "fc046c09",
   "metadata": {},
   "outputs": [
    {
     "data": {
      "text/plain": [
       "False"
      ]
     },
     "execution_count": 36,
     "metadata": {},
     "output_type": "execute_result"
    }
   ],
   "source": [
    "'hi'=='bye'    # it can be becouse of ascii value \n",
    "               # ASCII- American Standard Code for Information Interchange"
   ]
  },
  {
   "cell_type": "code",
   "execution_count": 37,
   "id": "5b526d5f",
   "metadata": {},
   "outputs": [
    {
     "data": {
      "text/plain": [
       "True"
      ]
     },
     "execution_count": 37,
     "metadata": {},
     "output_type": "execute_result"
    }
   ],
   "source": [
    "'hi'=='hi'"
   ]
  },
  {
   "cell_type": "code",
   "execution_count": 38,
   "id": "fad00daf",
   "metadata": {},
   "outputs": [
    {
     "data": {
      "text/plain": [
       "False"
      ]
     },
     "execution_count": 38,
     "metadata": {},
     "output_type": "execute_result"
    }
   ],
   "source": [
    "'hi'!='hi'"
   ]
  },
  {
   "cell_type": "code",
   "execution_count": 40,
   "id": "d4825415",
   "metadata": {},
   "outputs": [
    {
     "data": {
      "text/plain": [
       "97"
      ]
     },
     "execution_count": 40,
     "metadata": {},
     "output_type": "execute_result"
    }
   ],
   "source": [
    "ord('a')        # Ascci number can be find with ord method"
   ]
  },
  {
   "cell_type": "code",
   "execution_count": 41,
   "id": "216ba3f0",
   "metadata": {},
   "outputs": [
    {
     "data": {
      "text/plain": [
       "65"
      ]
     },
     "execution_count": 41,
     "metadata": {},
     "output_type": "execute_result"
    }
   ],
   "source": [
    "ord('A')        # Ascii number for capital letter and small latter should be different"
   ]
  },
  {
   "cell_type": "code",
   "execution_count": 42,
   "id": "dd506cd1",
   "metadata": {},
   "outputs": [],
   "source": [
    "# Logical Operators   and or"
   ]
  },
  {
   "cell_type": "code",
   "execution_count": 44,
   "id": "ff586873",
   "metadata": {},
   "outputs": [
    {
     "data": {
      "text/plain": [
       "False"
      ]
     },
     "execution_count": 44,
     "metadata": {},
     "output_type": "execute_result"
    }
   ],
   "source": [
    "(1>2) and (3<4)   # False and True = False"
   ]
  },
  {
   "cell_type": "code",
   "execution_count": 45,
   "id": "1b8b563d",
   "metadata": {},
   "outputs": [
    {
     "data": {
      "text/plain": [
       "True"
      ]
     },
     "execution_count": 45,
     "metadata": {},
     "output_type": "execute_result"
    }
   ],
   "source": [
    "(5<6) and (7==7)   # True and True = True"
   ]
  },
  {
   "cell_type": "code",
   "execution_count": 46,
   "id": "8ab03528",
   "metadata": {},
   "outputs": [
    {
     "data": {
      "text/plain": [
       "True"
      ]
     },
     "execution_count": 46,
     "metadata": {},
     "output_type": "execute_result"
    }
   ],
   "source": [
    "(9!=6) or (7!=7)   # True or False = True"
   ]
  },
  {
   "cell_type": "code",
   "execution_count": 49,
   "id": "7af32f52",
   "metadata": {},
   "outputs": [
    {
     "data": {
      "text/plain": [
       "False"
      ]
     },
     "execution_count": 49,
     "metadata": {},
     "output_type": "execute_result"
    }
   ],
   "source": [
    "(2>3) or (4<1)    # False or False = False"
   ]
  },
  {
   "cell_type": "code",
   "execution_count": 50,
   "id": "58f4dc2a",
   "metadata": {},
   "outputs": [
    {
     "data": {
      "text/plain": [
       "True"
      ]
     },
     "execution_count": 50,
     "metadata": {},
     "output_type": "execute_result"
    }
   ],
   "source": [
    "(4>2) or (3!=6)   # True or True = True"
   ]
  },
  {
   "cell_type": "markdown",
   "id": "6798453a",
   "metadata": {},
   "source": [
    "# if,elif,else Statement"
   ]
  },
  {
   "cell_type": "code",
   "execution_count": 4,
   "id": "c29f6241",
   "metadata": {},
   "outputs": [
    {
     "name": "stdout",
     "output_type": "stream",
     "text": [
      "above condition is True\n"
     ]
    }
   ],
   "source": [
    "if 4<=4:\n",
    "    print(\"above condition is True\")"
   ]
  },
  {
   "cell_type": "code",
   "execution_count": 1,
   "id": "01b61f8d",
   "metadata": {},
   "outputs": [],
   "source": [
    "# It note that there is block of white space beofre print which very important in python. \n",
    "# In python brackets are not used in order seperate block execution statement it uses white space instead."
   ]
  },
  {
   "cell_type": "code",
   "execution_count": 2,
   "id": "02832c97",
   "metadata": {},
   "outputs": [],
   "source": [
    "if 2>4:\n",
    "    print(\"first\")"
   ]
  },
  {
   "cell_type": "code",
   "execution_count": 6,
   "id": "2f96bbe9",
   "metadata": {},
   "outputs": [
    {
     "name": "stdout",
     "output_type": "stream",
     "text": [
      "divison is: 9.166666666666666\n"
     ]
    }
   ],
   "source": [
    "if 3<=3:\n",
    "    b=55/6\n",
    "    print(\"divison is:\",b)"
   ]
  },
  {
   "cell_type": "code",
   "execution_count": 8,
   "id": "00ede8f3",
   "metadata": {},
   "outputs": [
    {
     "name": "stdout",
     "output_type": "stream",
     "text": [
      "in and statement both statements are true\n"
     ]
    }
   ],
   "source": [
    "if (3!=4) and (5<3):\n",
    "    a=85*3\n",
    "    print(a)\n",
    "else:\n",
    "    print(\"in and statement both statements are true\")"
   ]
  },
  {
   "cell_type": "code",
   "execution_count": 9,
   "id": "9bb4cb9f",
   "metadata": {},
   "outputs": [
    {
     "name": "stdout",
     "output_type": "stream",
     "text": [
      "new\n"
     ]
    }
   ],
   "source": [
    "if 3==3 or 3>7:\n",
    "    print(\"new\")"
   ]
  },
  {
   "cell_type": "code",
   "execution_count": 10,
   "id": "5185aaaa",
   "metadata": {},
   "outputs": [
    {
     "name": "stdout",
     "output_type": "stream",
     "text": [
      "second\n"
     ]
    }
   ],
   "source": [
    "if 88<70:\n",
    "    print('33')\n",
    "elif 44>22:\n",
    "    print('second')\n",
    "else:\n",
    "    print('third')"
   ]
  },
  {
   "cell_type": "code",
   "execution_count": 12,
   "id": "d41ce6c9",
   "metadata": {},
   "outputs": [
    {
     "name": "stdout",
     "output_type": "stream",
     "text": [
      "second\n"
     ]
    }
   ],
   "source": [
    "if 77!=77:   #false\n",
    "    print(\"first\")  \n",
    "elif 55==55:   #true\n",
    "    print(\"second\")\n",
    "elif 44==44:   #true\n",
    "    print(\"last\")\n",
    "else:\n",
    "    print(\"final last\")"
   ]
  },
  {
   "cell_type": "markdown",
   "id": "b1f5772a",
   "metadata": {},
   "source": [
    "# for loops-allows you to iterate through sequence"
   ]
  },
  {
   "cell_type": "code",
   "execution_count": 13,
   "id": "cbd30b8b",
   "metadata": {},
   "outputs": [],
   "source": [
    "a=(1,2,3,4,5)"
   ]
  },
  {
   "cell_type": "code",
   "execution_count": 14,
   "id": "3704f406",
   "metadata": {},
   "outputs": [
    {
     "name": "stdout",
     "output_type": "stream",
     "text": [
      "1\n",
      "2\n",
      "3\n",
      "4\n",
      "5\n"
     ]
    }
   ],
   "source": [
    "for i in a:\n",
    "    print(i)"
   ]
  },
  {
   "cell_type": "code",
   "execution_count": 15,
   "id": "3666a2c8",
   "metadata": {},
   "outputs": [
    {
     "name": "stdout",
     "output_type": "stream",
     "text": [
      "**\n",
      "**\n",
      "**\n",
      "**\n",
      "**\n"
     ]
    }
   ],
   "source": [
    "for j in a:\n",
    "    print(\"**\")"
   ]
  },
  {
   "cell_type": "code",
   "execution_count": 16,
   "id": "a8b81c86",
   "metadata": {},
   "outputs": [
    {
     "name": "stdout",
     "output_type": "stream",
     "text": [
      "ashish\n",
      "ashish\n",
      "ashish\n",
      "ashish\n",
      "ashish\n"
     ]
    }
   ],
   "source": [
    "for k in a:\n",
    "    print('ashish')\n",
    "    k=k+1"
   ]
  },
  {
   "cell_type": "code",
   "execution_count": 21,
   "id": "02711c93",
   "metadata": {},
   "outputs": [
    {
     "name": "stdout",
     "output_type": "stream",
     "text": [
      "4\n",
      "6\n",
      "8\n",
      "10\n",
      "12\n"
     ]
    }
   ],
   "source": [
    "for h in a:\n",
    "    h=h+1      #h=1+1\n",
    "    print(h+h) #2+2"
   ]
  },
  {
   "cell_type": "code",
   "execution_count": 25,
   "id": "76dff274",
   "metadata": {},
   "outputs": [
    {
     "name": "stdout",
     "output_type": "stream",
     "text": [
      "2\n",
      "4\n",
      "6\n",
      "8\n",
      "10\n",
      "12\n",
      "14\n",
      "16\n",
      "18\n",
      "20\n"
     ]
    }
   ],
   "source": [
    "for i in range(1,11):\n",
    "    i=i*2\n",
    "    print(i)"
   ]
  },
  {
   "cell_type": "code",
   "execution_count": 26,
   "id": "bba852e0",
   "metadata": {},
   "outputs": [],
   "source": [
    "w=(1,2,3,4,5,6,7,8,9,10)"
   ]
  },
  {
   "cell_type": "code",
   "execution_count": 27,
   "id": "6ce33d8b",
   "metadata": {},
   "outputs": [],
   "source": [
    "v=3"
   ]
  },
  {
   "cell_type": "code",
   "execution_count": 28,
   "id": "ecd44bfa",
   "metadata": {},
   "outputs": [
    {
     "name": "stdout",
     "output_type": "stream",
     "text": [
      "3\n",
      "6\n",
      "9\n",
      "12\n",
      "15\n",
      "18\n",
      "21\n",
      "24\n",
      "27\n",
      "30\n"
     ]
    }
   ],
   "source": [
    "for i in w:\n",
    "    print(i*v)"
   ]
  },
  {
   "cell_type": "code",
   "execution_count": 35,
   "id": "b6994425",
   "metadata": {},
   "outputs": [
    {
     "name": "stdout",
     "output_type": "stream",
     "text": [
      "1\n",
      "2\n"
     ]
    }
   ],
   "source": [
    "r=12\n",
    "s=(1,2)\n",
    "for i in s:\n",
    "    print(i)"
   ]
  },
  {
   "cell_type": "markdown",
   "id": "699edf50",
   "metadata": {},
   "source": [
    "# while loop"
   ]
  },
  {
   "cell_type": "code",
   "execution_count": 36,
   "id": "c27c242e",
   "metadata": {},
   "outputs": [
    {
     "name": "stdout",
     "output_type": "stream",
     "text": [
      "10\n",
      "20\n",
      "30\n",
      "40\n",
      "50\n",
      "60\n",
      "70\n",
      "80\n",
      "90\n",
      "100\n"
     ]
    }
   ],
   "source": [
    "a=1\n",
    "b=10\n",
    "while a<=10:\n",
    "    print(a*10)\n",
    "    a=a+1"
   ]
  },
  {
   "cell_type": "code",
   "execution_count": 1,
   "id": "ba57960e",
   "metadata": {},
   "outputs": [
    {
     "name": "stdout",
     "output_type": "stream",
     "text": [
      "my number is:1\n",
      "my number is:2\n",
      "my number is:3\n",
      "my number is:4\n"
     ]
    }
   ],
   "source": [
    "a=1\n",
    "while a<5:\n",
    "    print(\"my number is:{x}\".format(x=a))\n",
    "    a=a+1"
   ]
  },
  {
   "cell_type": "code",
   "execution_count": 2,
   "id": "361193d5",
   "metadata": {},
   "outputs": [
    {
     "name": "stdout",
     "output_type": "stream",
     "text": [
      "my number is:1\n",
      "my number is:2\n",
      "my number is:3\n",
      "my number is:4\n"
     ]
    }
   ],
   "source": [
    "a=1\n",
    "while a<5:\n",
    "    print(\"my number is:{}\".format(a))\n",
    "    a=a+1"
   ]
  },
  {
   "cell_type": "code",
   "execution_count": 4,
   "id": "348724c4",
   "metadata": {},
   "outputs": [
    {
     "name": "stdout",
     "output_type": "stream",
     "text": [
      "2\n",
      "4\n",
      "6\n",
      "8\n",
      "10\n",
      "12\n",
      "14\n",
      "16\n",
      "18\n",
      "20\n"
     ]
    }
   ],
   "source": [
    "v=1\n",
    "while v<20:\n",
    "    v=v+1\n",
    "    if v%2==0:\n",
    "        print(v)"
   ]
  },
  {
   "cell_type": "markdown",
   "id": "e28a68a0",
   "metadata": {},
   "source": [
    "# Range() is generator function"
   ]
  },
  {
   "cell_type": "code",
   "execution_count": 7,
   "id": "52383d12",
   "metadata": {},
   "outputs": [
    {
     "data": {
      "text/plain": [
       "range(0, 5)"
      ]
     },
     "execution_count": 7,
     "metadata": {},
     "output_type": "execute_result"
    }
   ],
   "source": [
    "range(5)   # bydefault the starting number is zero"
   ]
  },
  {
   "cell_type": "code",
   "execution_count": 8,
   "id": "97e8c3ee",
   "metadata": {},
   "outputs": [
    {
     "name": "stdout",
     "output_type": "stream",
     "text": [
      "0\n",
      "1\n",
      "2\n",
      "3\n",
      "4\n",
      "5\n",
      "6\n",
      "7\n",
      "8\n",
      "9\n"
     ]
    }
   ],
   "source": [
    "for i in range(10):\n",
    "    print(i)"
   ]
  },
  {
   "cell_type": "code",
   "execution_count": 10,
   "id": "3119fade",
   "metadata": {},
   "outputs": [
    {
     "name": "stdout",
     "output_type": "stream",
     "text": [
      "1\n",
      "2\n",
      "3\n",
      "4\n",
      "5\n",
      "6\n",
      "7\n",
      "8\n",
      "9\n"
     ]
    }
   ],
   "source": [
    "for i in range(1,10):\n",
    "    print(i)"
   ]
  },
  {
   "cell_type": "code",
   "execution_count": 11,
   "id": "1c21da9d",
   "metadata": {},
   "outputs": [
    {
     "name": "stdout",
     "output_type": "stream",
     "text": [
      "2\n",
      "4\n",
      "6\n",
      "8\n",
      "10\n",
      "12\n",
      "14\n",
      "16\n",
      "18\n",
      "20\n"
     ]
    }
   ],
   "source": [
    "for v in range(2,21,2):\n",
    "    print(v)"
   ]
  },
  {
   "cell_type": "code",
   "execution_count": 12,
   "id": "f1d86f2f",
   "metadata": {},
   "outputs": [
    {
     "name": "stdout",
     "output_type": "stream",
     "text": [
      "6\n",
      "12\n",
      "18\n",
      "24\n",
      "30\n"
     ]
    }
   ],
   "source": [
    "for k in range(3,31,3):\n",
    "    if k%2==0:\n",
    "        print(k)"
   ]
  },
  {
   "cell_type": "code",
   "execution_count": null,
   "id": "00729aec",
   "metadata": {},
   "outputs": [],
   "source": [
    "for new in range(5,51,5):\n",
    "    if new%2!=0:\n",
    "        print"
   ]
  },
  {
   "cell_type": "code",
   "execution_count": 13,
   "id": "9bf9eee4",
   "metadata": {},
   "outputs": [],
   "source": [
    "# list comprehesion-it allow you to save a bunch of writing when you try to create for loop to create a list"
   ]
  },
  {
   "cell_type": "code",
   "execution_count": 1,
   "id": "d392d39d",
   "metadata": {},
   "outputs": [],
   "source": [
    "new=[1,2,3,4,5]"
   ]
  },
  {
   "cell_type": "code",
   "execution_count": 8,
   "id": "5400ab89",
   "metadata": {},
   "outputs": [
    {
     "name": "stdout",
     "output_type": "stream",
     "text": [
      "[1, 2, 3, 4, 5]\n"
     ]
    }
   ],
   "source": [
    "output=[]   # empty list\n",
    "for i in new:\n",
    "    output.append(i)\n",
    "print(output)"
   ]
  },
  {
   "cell_type": "code",
   "execution_count": 9,
   "id": "e81d13ab",
   "metadata": {},
   "outputs": [
    {
     "data": {
      "text/plain": [
       "[1, 2, 3, 4, 5]"
      ]
     },
     "execution_count": 9,
     "metadata": {},
     "output_type": "execute_result"
    }
   ],
   "source": [
    "output"
   ]
  },
  {
   "cell_type": "code",
   "execution_count": 10,
   "id": "a84b38a2",
   "metadata": {},
   "outputs": [
    {
     "data": {
      "text/plain": [
       "[1, 4, 9, 16, 25]"
      ]
     },
     "execution_count": 10,
     "metadata": {},
     "output_type": "execute_result"
    }
   ],
   "source": [
    "[x**2 for x in new]"
   ]
  },
  {
   "cell_type": "code",
   "execution_count": 11,
   "id": "b0de636b",
   "metadata": {},
   "outputs": [],
   "source": [
    "out=[x*2 for x in new]"
   ]
  },
  {
   "cell_type": "code",
   "execution_count": 12,
   "id": "c452db51",
   "metadata": {},
   "outputs": [
    {
     "data": {
      "text/plain": [
       "[2, 4, 6, 8, 10]"
      ]
     },
     "execution_count": 12,
     "metadata": {},
     "output_type": "execute_result"
    }
   ],
   "source": [
    "out"
   ]
  },
  {
   "cell_type": "code",
   "execution_count": 14,
   "id": "592ad3e5",
   "metadata": {},
   "outputs": [],
   "source": [
    "# function- it allows you to not write code over and over again"
   ]
  },
  {
   "cell_type": "code",
   "execution_count": 15,
   "id": "2b3384d5",
   "metadata": {},
   "outputs": [],
   "source": [
    "def self_1(name='yogesh'):\n",
    "    return 'yogesh'"
   ]
  },
  {
   "cell_type": "code",
   "execution_count": 16,
   "id": "61ca59b2",
   "metadata": {},
   "outputs": [
    {
     "data": {
      "text/plain": [
       "'yogesh'"
      ]
     },
     "execution_count": 16,
     "metadata": {},
     "output_type": "execute_result"
    }
   ],
   "source": [
    "self_1()"
   ]
  },
  {
   "cell_type": "code",
   "execution_count": 18,
   "id": "96418d08",
   "metadata": {},
   "outputs": [
    {
     "data": {
      "text/plain": [
       "<function __main__.self_1(name='yogesh')>"
      ]
     },
     "execution_count": 18,
     "metadata": {},
     "output_type": "execute_result"
    }
   ],
   "source": [
    "self_1"
   ]
  },
  {
   "cell_type": "code",
   "execution_count": 19,
   "id": "0076f71c",
   "metadata": {},
   "outputs": [
    {
     "data": {
      "text/plain": [
       "'yogesh'"
      ]
     },
     "execution_count": 19,
     "metadata": {},
     "output_type": "execute_result"
    }
   ],
   "source": [
    "self_1(\"AShish\")"
   ]
  },
  {
   "cell_type": "code",
   "execution_count": 20,
   "id": "c9dc1c3b",
   "metadata": {},
   "outputs": [
    {
     "data": {
      "text/plain": [
       "'yogesh'"
      ]
     },
     "execution_count": 20,
     "metadata": {},
     "output_type": "execute_result"
    }
   ],
   "source": [
    "self_1(name='Ashish')"
   ]
  },
  {
   "cell_type": "code",
   "execution_count": 21,
   "id": "4a2f376f",
   "metadata": {},
   "outputs": [],
   "source": [
    "def self_1(name='ashish'):\n",
    "    return name"
   ]
  },
  {
   "cell_type": "code",
   "execution_count": 23,
   "id": "f322cda2",
   "metadata": {},
   "outputs": [
    {
     "data": {
      "text/plain": [
       "'ashish'"
      ]
     },
     "execution_count": 23,
     "metadata": {},
     "output_type": "execute_result"
    }
   ],
   "source": [
    "self_1()"
   ]
  },
  {
   "cell_type": "code",
   "execution_count": 24,
   "id": "277f3cb2",
   "metadata": {},
   "outputs": [
    {
     "data": {
      "text/plain": [
       "'Pradip'"
      ]
     },
     "execution_count": 24,
     "metadata": {},
     "output_type": "execute_result"
    }
   ],
   "source": [
    "self_1('Pradip')"
   ]
  },
  {
   "cell_type": "code",
   "execution_count": 56,
   "id": "c9131346",
   "metadata": {},
   "outputs": [],
   "source": [
    "def good(new):\n",
    "    print('good '+new)"
   ]
  },
  {
   "cell_type": "code",
   "execution_count": 29,
   "id": "292c62ef",
   "metadata": {},
   "outputs": [
    {
     "name": "stdout",
     "output_type": "stream",
     "text": [
      "good  morning\n"
     ]
    }
   ],
   "source": [
    "good(' morning')"
   ]
  },
  {
   "cell_type": "code",
   "execution_count": 30,
   "id": "0cee941a",
   "metadata": {},
   "outputs": [
    {
     "name": "stdout",
     "output_type": "stream",
     "text": [
      "good night\n"
     ]
    }
   ],
   "source": [
    "good('night')"
   ]
  },
  {
   "cell_type": "code",
   "execution_count": 31,
   "id": "c2f76c74",
   "metadata": {},
   "outputs": [
    {
     "name": "stdout",
     "output_type": "stream",
     "text": [
      "good news\n"
     ]
    }
   ],
   "source": [
    "good('news')"
   ]
  },
  {
   "cell_type": "code",
   "execution_count": 32,
   "id": "a2335ed4",
   "metadata": {},
   "outputs": [],
   "source": [
    "def square(x):\n",
    "    return x**2"
   ]
  },
  {
   "cell_type": "code",
   "execution_count": 33,
   "id": "3130410e",
   "metadata": {},
   "outputs": [
    {
     "data": {
      "text/plain": [
       "25"
      ]
     },
     "execution_count": 33,
     "metadata": {},
     "output_type": "execute_result"
    }
   ],
   "source": [
    "square(5)"
   ]
  },
  {
   "cell_type": "code",
   "execution_count": 47,
   "id": "b417454d",
   "metadata": {},
   "outputs": [],
   "source": [
    "def same(name):\n",
    "    print(name)"
   ]
  },
  {
   "cell_type": "code",
   "execution_count": 49,
   "id": "4f110192",
   "metadata": {},
   "outputs": [
    {
     "name": "stdout",
     "output_type": "stream",
     "text": [
      "new\n"
     ]
    }
   ],
   "source": [
    "same('new')"
   ]
  },
  {
   "cell_type": "code",
   "execution_count": 50,
   "id": "7a9adb86",
   "metadata": {},
   "outputs": [
    {
     "name": "stdout",
     "output_type": "stream",
     "text": [
      "jack\n"
     ]
    }
   ],
   "source": [
    "same('jack')"
   ]
  },
  {
   "cell_type": "code",
   "execution_count": 58,
   "id": "b2283fef",
   "metadata": {},
   "outputs": [],
   "source": [
    "def my_fun(x):\n",
    "    return x**3"
   ]
  },
  {
   "cell_type": "code",
   "execution_count": 59,
   "id": "147b9877",
   "metadata": {},
   "outputs": [
    {
     "data": {
      "text/plain": [
       "27"
      ]
     },
     "execution_count": 59,
     "metadata": {},
     "output_type": "execute_result"
    }
   ],
   "source": [
    "my_fun(3)"
   ]
  },
  {
   "cell_type": "code",
   "execution_count": 60,
   "id": "8429cd68",
   "metadata": {},
   "outputs": [
    {
     "data": {
      "text/plain": [
       "490606773734723182272"
      ]
     },
     "execution_count": 60,
     "metadata": {},
     "output_type": "execute_result"
    }
   ],
   "source": [
    "my_fun(7886988)"
   ]
  },
  {
   "cell_type": "markdown",
   "id": "8645ce4e",
   "metadata": {},
   "source": [
    "# lambda expressions"
   ]
  },
  {
   "cell_type": "code",
   "execution_count": 62,
   "id": "6dc73158",
   "metadata": {},
   "outputs": [],
   "source": [
    "def square(var):\n",
    "    return var*2"
   ]
  },
  {
   "cell_type": "code",
   "execution_count": 63,
   "id": "fd441624",
   "metadata": {},
   "outputs": [
    {
     "data": {
      "text/plain": [
       "8"
      ]
     },
     "execution_count": 63,
     "metadata": {},
     "output_type": "execute_result"
    }
   ],
   "source": [
    "square(4)"
   ]
  },
  {
   "cell_type": "code",
   "execution_count": 70,
   "id": "321d2724",
   "metadata": {},
   "outputs": [
    {
     "data": {
      "text/plain": [
       "<function __main__.<lambda>(var)>"
      ]
     },
     "execution_count": 70,
     "metadata": {},
     "output_type": "execute_result"
    }
   ],
   "source": [
    "lambda var: var*2"
   ]
  },
  {
   "cell_type": "code",
   "execution_count": 71,
   "id": "11d74e94",
   "metadata": {},
   "outputs": [],
   "source": [
    "t=(lambda var: var*2)"
   ]
  },
  {
   "cell_type": "code",
   "execution_count": 75,
   "id": "4f2689c6",
   "metadata": {},
   "outputs": [
    {
     "data": {
      "text/plain": [
       "6"
      ]
     },
     "execution_count": 75,
     "metadata": {},
     "output_type": "execute_result"
    }
   ],
   "source": [
    "t(3)"
   ]
  },
  {
   "cell_type": "markdown",
   "id": "0bf44587",
   "metadata": {},
   "source": [
    "# map and filter"
   ]
  },
  {
   "cell_type": "code",
   "execution_count": 83,
   "id": "f1a4a135",
   "metadata": {},
   "outputs": [],
   "source": [
    "seq=[1,2,3,4,5]"
   ]
  },
  {
   "cell_type": "code",
   "execution_count": 84,
   "id": "d2c4a3ef",
   "metadata": {},
   "outputs": [
    {
     "data": {
      "text/plain": [
       "(<function __main__.<lambda>(v)>, [1, 2, 3, 4, 5])"
      ]
     },
     "execution_count": 84,
     "metadata": {},
     "output_type": "execute_result"
    }
   ],
   "source": [
    "(lambda v: v**4,seq)"
   ]
  },
  {
   "cell_type": "code",
   "execution_count": 87,
   "id": "f358a542",
   "metadata": {},
   "outputs": [],
   "source": [
    "new=(list(map(lambda v: v**4,seq)))"
   ]
  },
  {
   "cell_type": "code",
   "execution_count": 88,
   "id": "1efe4a67",
   "metadata": {},
   "outputs": [
    {
     "data": {
      "text/plain": [
       "[1, 16, 81, 256, 625]"
      ]
     },
     "execution_count": 88,
     "metadata": {},
     "output_type": "execute_result"
    }
   ],
   "source": [
    "new"
   ]
  },
  {
   "cell_type": "code",
   "execution_count": 89,
   "id": "043b1556",
   "metadata": {},
   "outputs": [],
   "source": [
    "new=(list(filter(lambda v: v**4,seq)))"
   ]
  },
  {
   "cell_type": "code",
   "execution_count": 90,
   "id": "ece1a934",
   "metadata": {},
   "outputs": [
    {
     "data": {
      "text/plain": [
       "[1, 2, 3, 4, 5]"
      ]
     },
     "execution_count": 90,
     "metadata": {},
     "output_type": "execute_result"
    }
   ],
   "source": [
    "new"
   ]
  },
  {
   "cell_type": "code",
   "execution_count": 91,
   "id": "f909d002",
   "metadata": {},
   "outputs": [
    {
     "data": {
      "text/plain": [
       "(2, 4)"
      ]
     },
     "execution_count": 91,
     "metadata": {},
     "output_type": "execute_result"
    }
   ],
   "source": [
    "tuple(filter(lambda x: x%2==0,seq))"
   ]
  },
  {
   "cell_type": "code",
   "execution_count": 92,
   "id": "1f4d9638",
   "metadata": {},
   "outputs": [
    {
     "data": {
      "text/plain": [
       "(False, True, False, True, False)"
      ]
     },
     "execution_count": 92,
     "metadata": {},
     "output_type": "execute_result"
    }
   ],
   "source": [
    "tuple(map(lambda x: x%2==0,seq))"
   ]
  },
  {
   "cell_type": "markdown",
   "id": "7c1bb93b",
   "metadata": {},
   "source": [
    "# Methods"
   ]
  },
  {
   "cell_type": "code",
   "execution_count": 7,
   "id": "4e1d0387",
   "metadata": {},
   "outputs": [],
   "source": [
    "st='hallo, my name is, ashish shinde'"
   ]
  },
  {
   "cell_type": "code",
   "execution_count": 8,
   "id": "4802187c",
   "metadata": {},
   "outputs": [
    {
     "data": {
      "text/plain": [
       "'HALLO, MY NAME IS, ASHISH SHINDE'"
      ]
     },
     "execution_count": 8,
     "metadata": {},
     "output_type": "execute_result"
    }
   ],
   "source": [
    "st.upper()"
   ]
  },
  {
   "cell_type": "code",
   "execution_count": 9,
   "id": "0e3802e3",
   "metadata": {},
   "outputs": [
    {
     "data": {
      "text/plain": [
       "['hallo,', 'my', 'name', 'is,', 'ashish', 'shinde']"
      ]
     },
     "execution_count": 9,
     "metadata": {},
     "output_type": "execute_result"
    }
   ],
   "source": [
    "st.split()  #split is done based on white space"
   ]
  },
  {
   "cell_type": "code",
   "execution_count": 11,
   "id": "08efe819",
   "metadata": {},
   "outputs": [
    {
     "data": {
      "text/plain": [
       "['hallo', ' my name is', ' ashish shinde']"
      ]
     },
     "execution_count": 11,
     "metadata": {},
     "output_type": "execute_result"
    }
   ],
   "source": [
    "st.split(',')  #split method by defoult will split the string on all the white space of that string and it covert to\n",
    "                #the list"
   ]
  },
  {
   "cell_type": "code",
   "execution_count": 12,
   "id": "644ae7f2",
   "metadata": {},
   "outputs": [],
   "source": [
    "tweet='go sports! #sports'"
   ]
  },
  {
   "cell_type": "code",
   "execution_count": 13,
   "id": "8e16c8b3",
   "metadata": {},
   "outputs": [
    {
     "data": {
      "text/plain": [
       "'go sports! #sports'"
      ]
     },
     "execution_count": 13,
     "metadata": {},
     "output_type": "execute_result"
    }
   ],
   "source": [
    "tweet"
   ]
  },
  {
   "cell_type": "code",
   "execution_count": 14,
   "id": "e07ba1b7",
   "metadata": {},
   "outputs": [
    {
     "data": {
      "text/plain": [
       "['go', 'sports!', '#sports']"
      ]
     },
     "execution_count": 14,
     "metadata": {},
     "output_type": "execute_result"
    }
   ],
   "source": [
    "tweet.split()       # split is done based on white space"
   ]
  },
  {
   "cell_type": "code",
   "execution_count": 15,
   "id": "d7880b00",
   "metadata": {},
   "outputs": [
    {
     "data": {
      "text/plain": [
       "['go sports! ', 'sports']"
      ]
     },
     "execution_count": 15,
     "metadata": {},
     "output_type": "execute_result"
    }
   ],
   "source": [
    "tweet.split('#')   # split can be done based on perticular element"
   ]
  },
  {
   "cell_type": "code",
   "execution_count": 16,
   "id": "23629dff",
   "metadata": {},
   "outputs": [
    {
     "data": {
      "text/plain": [
       "'sports'"
      ]
     },
     "execution_count": 16,
     "metadata": {},
     "output_type": "execute_result"
    }
   ],
   "source": [
    "tweet.split('#')[1]"
   ]
  },
  {
   "cell_type": "code",
   "execution_count": 17,
   "id": "58f55e3f",
   "metadata": {},
   "outputs": [
    {
     "data": {
      "text/plain": [
       "'go sports! #sports'"
      ]
     },
     "execution_count": 17,
     "metadata": {},
     "output_type": "execute_result"
    }
   ],
   "source": [
    "tweet"
   ]
  },
  {
   "cell_type": "code",
   "execution_count": 24,
   "id": "52349456",
   "metadata": {},
   "outputs": [],
   "source": [
    "d={'key1':'value1','key2':'value2','key3':'value3'}"
   ]
  },
  {
   "cell_type": "code",
   "execution_count": 25,
   "id": "dcb891ff",
   "metadata": {},
   "outputs": [
    {
     "data": {
      "text/plain": [
       "{'key1': 'value1', 'key2': 'value2', 'key3': 'value3'}"
      ]
     },
     "execution_count": 25,
     "metadata": {},
     "output_type": "execute_result"
    }
   ],
   "source": [
    "d"
   ]
  },
  {
   "cell_type": "code",
   "execution_count": 26,
   "id": "768d2882",
   "metadata": {},
   "outputs": [
    {
     "data": {
      "text/plain": [
       "dict_keys(['key1', 'key2', 'key3'])"
      ]
     },
     "execution_count": 26,
     "metadata": {},
     "output_type": "execute_result"
    }
   ],
   "source": [
    "d.keys()"
   ]
  },
  {
   "cell_type": "code",
   "execution_count": 27,
   "id": "cac0c949",
   "metadata": {},
   "outputs": [
    {
     "data": {
      "text/plain": [
       "dict_values(['value1', 'value2', 'value3'])"
      ]
     },
     "execution_count": 27,
     "metadata": {},
     "output_type": "execute_result"
    }
   ],
   "source": [
    "d.values()"
   ]
  },
  {
   "cell_type": "code",
   "execution_count": 28,
   "id": "6cbe118d",
   "metadata": {},
   "outputs": [
    {
     "data": {
      "text/plain": [
       "dict_items([('key1', 'value1'), ('key2', 'value2'), ('key3', 'value3')])"
      ]
     },
     "execution_count": 28,
     "metadata": {},
     "output_type": "execute_result"
    }
   ],
   "source": [
    "d.items()"
   ]
  },
  {
   "cell_type": "code",
   "execution_count": 29,
   "id": "0bcf5e04",
   "metadata": {},
   "outputs": [
    {
     "data": {
      "text/plain": [
       "'value1'"
      ]
     },
     "execution_count": 29,
     "metadata": {},
     "output_type": "execute_result"
    }
   ],
   "source": [
    "d['key1']"
   ]
  },
  {
   "cell_type": "code",
   "execution_count": 30,
   "id": "2348f046",
   "metadata": {},
   "outputs": [],
   "source": [
    "d['key1']='new'"
   ]
  },
  {
   "cell_type": "code",
   "execution_count": 31,
   "id": "5f52bd10",
   "metadata": {},
   "outputs": [
    {
     "data": {
      "text/plain": [
       "{'key1': 'new', 'key2': 'value2', 'key3': 'value3'}"
      ]
     },
     "execution_count": 31,
     "metadata": {},
     "output_type": "execute_result"
    }
   ],
   "source": [
    "d"
   ]
  },
  {
   "cell_type": "code",
   "execution_count": 32,
   "id": "86426f9e",
   "metadata": {},
   "outputs": [
    {
     "data": {
      "text/plain": [
       "('key3', 'value3')"
      ]
     },
     "execution_count": 32,
     "metadata": {},
     "output_type": "execute_result"
    }
   ],
   "source": [
    "d.popitem()"
   ]
  },
  {
   "cell_type": "code",
   "execution_count": 33,
   "id": "46397245",
   "metadata": {},
   "outputs": [
    {
     "data": {
      "text/plain": [
       "{'key1': 'new', 'key2': 'value2'}"
      ]
     },
     "execution_count": 33,
     "metadata": {},
     "output_type": "execute_result"
    }
   ],
   "source": [
    "d"
   ]
  },
  {
   "cell_type": "code",
   "execution_count": 34,
   "id": "9dc79406",
   "metadata": {},
   "outputs": [
    {
     "data": {
      "text/plain": [
       "'new'"
      ]
     },
     "execution_count": 34,
     "metadata": {},
     "output_type": "execute_result"
    }
   ],
   "source": [
    "d.pop('key1')"
   ]
  },
  {
   "cell_type": "code",
   "execution_count": 35,
   "id": "2ca7a1ee",
   "metadata": {},
   "outputs": [
    {
     "data": {
      "text/plain": [
       "{'key2': 'value2'}"
      ]
     },
     "execution_count": 35,
     "metadata": {},
     "output_type": "execute_result"
    }
   ],
   "source": [
    "d"
   ]
  },
  {
   "cell_type": "code",
   "execution_count": 44,
   "id": "ed05e6ca",
   "metadata": {},
   "outputs": [],
   "source": [
    "st=[1,2,3,4,5]"
   ]
  },
  {
   "cell_type": "code",
   "execution_count": 45,
   "id": "2ed0bc74",
   "metadata": {},
   "outputs": [
    {
     "data": {
      "text/plain": [
       "5"
      ]
     },
     "execution_count": 45,
     "metadata": {},
     "output_type": "execute_result"
    }
   ],
   "source": [
    "st.pop()  # it will pop or return last item in the list"
   ]
  },
  {
   "cell_type": "code",
   "execution_count": 46,
   "id": "42cfc422",
   "metadata": {},
   "outputs": [
    {
     "data": {
      "text/plain": [
       "[1, 2, 3, 4]"
      ]
     },
     "execution_count": 46,
     "metadata": {},
     "output_type": "execute_result"
    }
   ],
   "source": [
    "st       # now calling list after pop,this change is permenent"
   ]
  },
  {
   "cell_type": "code",
   "execution_count": 47,
   "id": "58edcbc4",
   "metadata": {},
   "outputs": [],
   "source": [
    "item=st.pop()"
   ]
  },
  {
   "cell_type": "code",
   "execution_count": 48,
   "id": "3137bdfe",
   "metadata": {},
   "outputs": [
    {
     "data": {
      "text/plain": [
       "[1, 2, 3]"
      ]
     },
     "execution_count": 48,
     "metadata": {},
     "output_type": "execute_result"
    }
   ],
   "source": [
    "st"
   ]
  },
  {
   "cell_type": "code",
   "execution_count": 50,
   "id": "b73e3bae",
   "metadata": {},
   "outputs": [
    {
     "data": {
      "text/plain": [
       "4"
      ]
     },
     "execution_count": 50,
     "metadata": {},
     "output_type": "execute_result"
    }
   ],
   "source": [
    "item  # last element is assigned to this variable"
   ]
  },
  {
   "cell_type": "code",
   "execution_count": 51,
   "id": "3d849aba",
   "metadata": {},
   "outputs": [],
   "source": [
    "first=st.pop(0)"
   ]
  },
  {
   "cell_type": "code",
   "execution_count": 52,
   "id": "ff0458bd",
   "metadata": {},
   "outputs": [
    {
     "data": {
      "text/plain": [
       "1"
      ]
     },
     "execution_count": 52,
     "metadata": {},
     "output_type": "execute_result"
    }
   ],
   "source": [
    "first"
   ]
  },
  {
   "cell_type": "code",
   "execution_count": 53,
   "id": "c1b328a7",
   "metadata": {},
   "outputs": [
    {
     "data": {
      "text/plain": [
       "[2, 3]"
      ]
     },
     "execution_count": 53,
     "metadata": {},
     "output_type": "execute_result"
    }
   ],
   "source": [
    "st"
   ]
  },
  {
   "cell_type": "code",
   "execution_count": 54,
   "id": "b57be798",
   "metadata": {},
   "outputs": [],
   "source": [
    "st.append('gana')"
   ]
  },
  {
   "cell_type": "code",
   "execution_count": 55,
   "id": "a35a1bdb",
   "metadata": {},
   "outputs": [
    {
     "data": {
      "text/plain": [
       "[2, 3, 'gana']"
      ]
     },
     "execution_count": 55,
     "metadata": {},
     "output_type": "execute_result"
    }
   ],
   "source": [
    "st"
   ]
  },
  {
   "cell_type": "code",
   "execution_count": 56,
   "id": "7bd95b8f",
   "metadata": {},
   "outputs": [
    {
     "data": {
      "text/plain": [
       "True"
      ]
     },
     "execution_count": 56,
     "metadata": {},
     "output_type": "execute_result"
    }
   ],
   "source": [
    "'x' in ['x','y','z']"
   ]
  },
  {
   "cell_type": "code",
   "execution_count": 57,
   "id": "eeb4f16f",
   "metadata": {},
   "outputs": [
    {
     "data": {
      "text/plain": [
       "False"
      ]
     },
     "execution_count": 57,
     "metadata": {},
     "output_type": "execute_result"
    }
   ],
   "source": [
    "'z' in [1,2,3]"
   ]
  },
  {
   "cell_type": "markdown",
   "id": "6e00246e",
   "metadata": {},
   "source": [
    "# tuple unpaking"
   ]
  },
  {
   "cell_type": "code",
   "execution_count": 59,
   "id": "7e7fbbe4",
   "metadata": {},
   "outputs": [],
   "source": [
    "x=[(1,2),(3,4),(5,6)]"
   ]
  },
  {
   "cell_type": "code",
   "execution_count": 60,
   "id": "31562227",
   "metadata": {},
   "outputs": [
    {
     "name": "stdout",
     "output_type": "stream",
     "text": [
      "(1, 2)\n",
      "(3, 4)\n",
      "(5, 6)\n"
     ]
    }
   ],
   "source": [
    "for i in x:\n",
    "    print(i)"
   ]
  },
  {
   "cell_type": "code",
   "execution_count": 63,
   "id": "98948487",
   "metadata": {},
   "outputs": [
    {
     "name": "stdout",
     "output_type": "stream",
     "text": [
      "1\n",
      "3\n",
      "5\n"
     ]
    }
   ],
   "source": [
    "for (j,k) in x:\n",
    "    print(j)\n",
    "    "
   ]
  },
  {
   "cell_type": "code",
   "execution_count": 64,
   "id": "aa7a7e16",
   "metadata": {},
   "outputs": [
    {
     "name": "stdout",
     "output_type": "stream",
     "text": [
      "2\n",
      "4\n",
      "6\n"
     ]
    }
   ],
   "source": [
    "for (a,w) in x:\n",
    "    print(w)"
   ]
  },
  {
   "cell_type": "code",
   "execution_count": 65,
   "id": "f4e8a7b3",
   "metadata": {},
   "outputs": [
    {
     "name": "stdout",
     "output_type": "stream",
     "text": [
      "1\n",
      "2\n",
      "3\n",
      "4\n",
      "5\n",
      "6\n"
     ]
    }
   ],
   "source": [
    "for (q,r) in x:\n",
    "    print(q)\n",
    "    print(r)"
   ]
  },
  {
   "cell_type": "code",
   "execution_count": null,
   "id": "cf4ab3a3",
   "metadata": {},
   "outputs": [],
   "source": []
  }
 ],
 "metadata": {
  "kernelspec": {
   "display_name": "Python 3 (ipykernel)",
   "language": "python",
   "name": "python3"
  },
  "language_info": {
   "codemirror_mode": {
    "name": "ipython",
    "version": 3
   },
   "file_extension": ".py",
   "mimetype": "text/x-python",
   "name": "python",
   "nbconvert_exporter": "python",
   "pygments_lexer": "ipython3",
   "version": "3.9.12"
  }
 },
 "nbformat": 4,
 "nbformat_minor": 5
}
